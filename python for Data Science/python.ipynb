{
 "cells": [
  {
   "cell_type": "markdown",
   "id": "5e02b15b",
   "metadata": {},
   "source": [
    "Python crash course\n",
    "============================\n",
    "<!-- markdown-toc start - Dont forget to edit this section according to your modifications -->\n",
    "**Table of Contents**\n",
    "\n",
    "- [Scientific Python Cheatsheet](#scientific-python-cheatsheet)\n",
    "    - [Pure Python](#pure-python)\n",
    "        - [Types](#types)\n",
    "        - [Lists](#lists)\n",
    "        - [Dictionaries](#dictionaries)\n",
    "        - [Sets](#sets)\n",
    "        - [Strings](#strings)\n",
    "        - [Operators](#operators)\n",
    "        - [Control Flow](#control-flow)\n",
    "        - [Functions, Classes, Generators, Decorators](#functions-classes-generators-decorators)\n",
    "    - [IPython](#ipython)\n",
    "        - [console](#console)\n",
    "        - [debugger](#debugger)\n",
    "        - [command line](#command-line)\n",
    "    - [NumPy](#numpy-import-numpy-as-np)\n",
    "        - [array initialization](#array-initialization)\n",
    "        - [indexing](#indexing)\n",
    "        - [array properties and operations](#array-properties-and-operations)\n",
    "        - [boolean arrays](#boolean-arrays)\n",
    "        - [elementwise operations and math functions](#elementwise-operations-and-math-functions)\n",
    "        - [inner/ outer products](#inner-outer-products)\n",
    "        - [linear algebra/ matrix math](#linear-algebra-matrix-math)\n",
    "        - [reading/ writing files](#reading-writing-files)\n",
    "        - [interpolation, integration, optimization](#interpolation-integration-optimization)\n",
    "        - [fft](#fft)\n",
    "        - [rounding](#rounding)\n",
    "        - [random variables](#random-variables)\n",
    "    - [Matplotlib](#matplotlib-import-matplotlib.pyplot-as-plt)\n",
    "        - [figures and axes](#figures-and-axes)\n",
    "        - [figures and axes properties](#figures-and-axes-properties)\n",
    "        - [plotting routines](#plotting-routines)\n",
    "    - [Scipy](#scipy-import-scipy-as-sci)\n",
    "        - [interpolation](#interpolation)\n",
    "        - [linear algebra](#linear-algebra)\n",
    "        - [integration](#integration)\n",
    "    - [Pandas](#pandas-import-pandas-as-pd)\n",
    "        - [data structures](#data-structures)\n",
    "        - [DataFrame](#dataframe)\n",
    "        \n",
    "<!-- markdown-toc end -->"
   ]
  },
  {
   "cell_type": "markdown",
   "id": "e698a099",
   "metadata": {},
   "source": [
    "## Pure Python\n",
    "\n",
    "### Types\n",
    "```python\n",
    "a = 2           # integer\n",
    "b = 5.0         # float\n",
    "c = 8.3e5       # exponential\n",
    "d = 1.5 + 0.5j  # complex\n",
    "e = 4 > 5       # boolean\n",
    "f = 'word'      # string\n",
    "```"
   ]
  },
  {
   "cell_type": "markdown",
   "id": "65ff78ee",
   "metadata": {},
   "source": [
    "### Lists\n",
    "\n",
    "```python\n",
    "a = ['red', 'blue', 'green']       # manually initialization\n",
    "b = list(range(5))                 # initialize from iteratable\n",
    "c = [nu**2 for nu in b]            # list comprehension\n",
    "d = [nu**2 for nu in b if nu < 3]  # conditioned list comprehension\n",
    "e = c[0]                           # access element\n",
    "f = c[1:2]                         # access a slice of the list\n",
    "g = c[-1]                          # access last element\n",
    "h = ['re', 'bl'] + ['gr']          # list concatenation\n",
    "i = ['re'] * 5                     # repeat a list\n",
    "['re', 'bl'].index('re')           # returns index of 're'\n",
    "a.append('yellow')                 # add new element to end of list\n",
    "a.extend(b)                        # add elements from list `b` to end of list `a`\n",
    "a.insert(1, 'yellow')              # insert element in specified position\n",
    "'re' in ['re', 'bl']               # true if 're' in list\n",
    "'fi' not in ['re', 'bl']           # true if 'fi' not in list\n",
    "sorted([3, 2, 1])                  # returns sorted list\n",
    "a.pop(2)                           # remove and return item at index (default last)\n",
    "```"
   ]
  },
  {
   "cell_type": "markdown",
   "id": "c37abdfa",
   "metadata": {},
   "source": [
    "### Dictionaries\n",
    "​\n",
    "```python\n",
    "a = {'red': 'rouge', 'blue': 'bleu'}         # dictionary\n",
    "b = a['red']                                 # translate item\n",
    "'red' in a                                   # true if dictionary a contains key 'red'\n",
    "c = [value for key, value in a.items()]      # loop through contents\n",
    "d = a.get('yellow', 'no translation found')  # return default\n",
    "a.setdefault('extra', []).append('cyan')     # init key with default\n",
    "a.update({'green': 'vert', 'brown': 'brun'}) # update dictionary by data from another one\n",
    "a.keys()                                     # get list of keys\n",
    "a.values()                                   # get list of values\n",
    "a.items()                                    # get list of key-value pairs\n",
    "del a['red']                                 # delete key and associated with it value\n",
    "a.pop('blue')                                # remove specified key and return the corresponding value\n",
    "```\n",
    "​"
   ]
  },
  {
   "cell_type": "code",
   "execution_count": 11,
   "id": "f60b248d",
   "metadata": {},
   "outputs": [],
   "source": [
    "### Sets\n",
    "\n",
    "#python\n",
    "a = {1, 2, 3}                                # initialize manually\n",
    "b = set(range(5))                            # initialize from iteratable\n",
    "a.add(13)                                    # add new element to set\n",
    "a.discard(13)                                # discard element from set\n",
    "a.update([21, 22, 23])                       # update set with elements from iterable\n",
    "a.pop()                                      # remove and return an arbitrary set element\n",
    "2 in {1, 2, 3}                               # true if 2 in set\n",
    "5 not in {1, 2, 3}                           # true if 5 not in set\n",
    "a.issubset(b)                                # test whether every element in a is in b\n",
    "a <= b                                       # issubset in operator form\n",
    "a.issuperset(b)                              # test whether every element in b is in a\n",
    "a >= b                                       # issuperset in operator form\n",
    "a.intersection(b)                            # return the intersection of two sets as a new set\n",
    "a.difference(b)                              # return the difference of two or more sets as a new set\n",
    "a - b                                        # difference in operator form\n",
    "a.symmetric_difference(b)                    # return the symmetric difference of two sets as a new set\n",
    "a.union(b)                                   # return the union of sets as a new set\n",
    "c = frozenset()                              # the same as set but immutable\n"
   ]
  },
  {
   "cell_type": "code",
   "execution_count": 12,
   "id": "4d9c33c5",
   "metadata": {},
   "outputs": [
    {
     "data": {
      "text/plain": [
       "False"
      ]
     },
     "execution_count": 12,
     "metadata": {},
     "output_type": "execute_result"
    }
   ],
   "source": [
    "### Operators\n",
    "\n",
    "a = 2             # assignment\n",
    "a += 1 #(*=, /=)   # change and assign\n",
    "3 + 2             # addition\n",
    "3 / 2             # integer (python2) or float (python3) division\n",
    "3 // 2            # integer division\n",
    "3 * 2             # multiplication\n",
    "3 ** 2            # exponent\n",
    "3 % 2             # remainder\n",
    "abs(a)            # absolute value\n",
    "1 == 1            # equal\n",
    "2 > 1             # larger\n",
    "2 < 1             # smaller\n",
    "1 != 2            # not equal\n",
    "1 != 2 and 2 < 3  # logical AND\n",
    "1 != 2 or 2 < 3   # logical OR\n",
    "not 1 == 2        # logical NOT\n",
    "'a' in b          # test if a is in b\n",
    "a is b            # test if objects point to the same memory (id)"
   ]
  },
  {
   "cell_type": "markdown",
   "id": "4261b4bd",
   "metadata": {},
   "source": [
    "### Control Flow\n",
    "\n",
    "```python\n",
    "# if/elif/else\n",
    "a, b = 1, 2\n",
    "if a + b == 3:\n",
    "    print('True')\n",
    "elif a + b == 1:\n",
    "    print('False')\n",
    "else:\n",
    "    print('?')\n",
    "\n",
    "# for\n",
    "a = ['red', 'blue', 'green']\n",
    "for color in a:\n",
    "    print(color)\n",
    "\n",
    "# while\n",
    "number = 1\n",
    "while number < 10:\n",
    "    print(number)\n",
    "    number += 1\n",
    "\n",
    "# break\n",
    "number = 1\n",
    "while True:\n",
    "    print(number)\n",
    "    number += 1\n",
    "    if number > 10:\n",
    "        break\n",
    "\n",
    "# continue\n",
    "for i in range(20):\n",
    "    if i % 2 == 0:\n",
    "        continue\n",
    "    print(i)\n",
    "```"
   ]
  },
  {
   "cell_type": "markdown",
   "id": "f1942c28",
   "metadata": {},
   "source": [
    "### Functions, Classes, Generators, Decorators\n",
    "\n",
    "```python\n",
    "# Function groups code statements and possibly\n",
    "# returns a derived value\n",
    "def myfunc(a1, a2):\n",
    "    return a1 + a2\n",
    "\n",
    "x = myfunc(a1, a2)\n",
    "\n",
    "# Class groups attributes (data)\n",
    "# and associated methods (functions)\n",
    "class Point(object):\n",
    "    def __init__(self, x):\n",
    "        self.x = x\n",
    "    def __call__(self):\n",
    "        print(self.x)\n",
    "\n",
    "x = Point(3)\n",
    "\n",
    "# Generator iterates without\n",
    "# creating all values at once\n",
    "def firstn(n):\n",
    "    num = 0\n",
    "    while num < n:\n",
    "        yield num\n",
    "        num += 1\n",
    "\n",
    "x = [i for i in firstn(10)]\n",
    "\n",
    "# Decorator can be used to modify\n",
    "# the behaviour of a function\n",
    "class myDecorator(object):\n",
    "    def __init__(self, f):\n",
    "        self.f = f\n",
    "    def __call__(self):\n",
    "        print(\"call\")\n",
    "        self.f()\n",
    "\n",
    "@myDecorator\n",
    "def my_funct():\n",
    "    print('func')\n",
    "\n",
    "my_funct()\n",
    "```\n"
   ]
  },
  {
   "cell_type": "markdown",
   "id": "95b2c0fc",
   "metadata": {},
   "source": [
    "## IPython"
   ]
  },
  {
   "cell_type": "markdown",
   "id": "2bba0ee7",
   "metadata": {},
   "source": [
    "### console\n",
    "```python\n",
    "<object>?                   # Information about the object\n",
    "<object>.<TAB>              # tab completion\n",
    "\n",
    "# run scripts / profile / debug\n",
    "%run myscript.py\n",
    "\n",
    "%timeit range(1000)         # measure runtime of statement\n",
    "%run -t  myscript.py        # measure script execution time\n",
    "\n",
    "%prun <statement>           # run statement with profiler\n",
    "%prun -s <key> <statement>  # sort by key, e.g. \"cumulative\" or \"calls\"\n",
    "%run -p  myfile.py          # profile script\n",
    "\n",
    "%run -d myscript.py         # run script in debug mode\n",
    "%debug                      # jumps to the debugger after an exception\n",
    "%pdb                        # run debugger automatically on exception\n",
    "\n",
    "# examine history\n",
    "%history\n",
    "%history ~1/1-5  # lines 1-5 of last session\n",
    "\n",
    "# run shell commands\n",
    "!make  # prefix command with \"!\"\n",
    "\n",
    "# clean namespace\n",
    "%reset\n",
    "\n",
    "# run code from clipboard\n",
    "%paste\n",
    "```"
   ]
  },
  {
   "cell_type": "markdown",
   "id": "eb2606fa",
   "metadata": {},
   "source": [
    "### debugger\n",
    "```python\n",
    "n               # execute next line\n",
    "b 42            # set breakpoint in the main file at line 42\n",
    "b myfile.py:42  # set breakpoint in 'myfile.py' at line 42\n",
    "c               # continue execution\n",
    "l               # show current position in the code\n",
    "p data          # print the 'data' variable\n",
    "pp data         # pretty print the 'data' variable\n",
    "s               # step into subroutine\n",
    "a               # print arguments that a function received\n",
    "pp locals()     # show all variables in local scope\n",
    "pp globals()    # show all variables in global scope\n",
    "```\n"
   ]
  },
  {
   "cell_type": "markdown",
   "id": "c60dddd9",
   "metadata": {},
   "source": [
    "### command line\n",
    "```bash\n",
    "ipython --pdb -- myscript.py argument1 --option1  # debug after exception\n",
    "ipython -i -- myscript.py argument1 --option1     # console after finish\n",
    "```"
   ]
  },
  {
   "cell_type": "markdown",
   "id": "93abb278",
   "metadata": {},
   "source": [
    "## NumPy (`import numpy as np`)"
   ]
  },
  {
   "cell_type": "markdown",
   "id": "d9462a70",
   "metadata": {},
   "source": [
    "### array initialization\n",
    "\n",
    "```python\n",
    "np.array([2, 3, 4])             # direct initialization\n",
    "np.empty(20, dtype=np.float32)  # single precision array of size 20\n",
    "np.zeros(200)                   # initialize 200 zeros\n",
    "np.ones((3,3), dtype=np.int32)  # 3 x 3 integer matrix with ones\n",
    "np.eye(200)                     # ones on the diagonal\n",
    "np.zeros_like(a)                # array with zeros and the shape of a\n",
    "np.linspace(0., 10., 100)       # 100 points from 0 to 10\n",
    "np.arange(0, 100, 2)            # points from 0 to <100 with step 2\n",
    "np.logspace(-5, 2, 100)         # 100 log-spaced from 1e-5 -> 1e2\n",
    "np.copy(a)                      # copy array to new memory\n",
    "```"
   ]
  },
  {
   "cell_type": "markdown",
   "id": "4fc9d5fc",
   "metadata": {},
   "source": [
    "### indexing\n",
    "\n",
    "```python\n",
    "a = np.arange(100)          # initialization with 0 - 99\n",
    "a[:3] = 0                   # set the first three indices to zero\n",
    "a[2:5] = 1                  # set indices 2-4 to 1\n",
    "a[:-3] = 2                  # set all but last three elements to 2\n",
    "a[start:stop:step]          # general form of indexing/slicing\n",
    "a[None, :]                  # transform to column vector\n",
    "a[[1, 1, 3, 8]]             # return array with values of the indices\n",
    "a = a.reshape(10, 10)       # transform to 10 x 10 matrix\n",
    "a.T                         # return transposed view\n",
    "b = np.transpose(a, (1, 0)) # transpose array to new axis order\n",
    "a[a < 2]                    # values with elementwise condition\n",
    "```"
   ]
  },
  {
   "cell_type": "markdown",
   "id": "b7bfb728",
   "metadata": {},
   "source": [
    "### array properties and operations\n",
    "\n",
    "```python\n",
    "a.shape                # a tuple with the lengths of each axis\n",
    "len(a)                 # length of axis 0\n",
    "a.ndim                 # number of dimensions (axes)\n",
    "a.sort(axis=1)         # sort array along axis\n",
    "a.flatten()            # collapse array to one dimension\n",
    "a.conj()               # return complex conjugate\n",
    "a.astype(np.int16)     # cast to integer\n",
    "a.tolist()             # convert (possibly multidimensional) array to list\n",
    "np.argmax(a, axis=1)   # return index of maximum along a given axis\n",
    "np.cumsum(a)           # return cumulative sum\n",
    "np.any(a)              # True if any element is True\n",
    "np.all(a)              # True if all elements are True\n",
    "np.argsort(a, axis=1)  # return sorted index array along axis\n",
    "np.where(cond)         # return indices where cond is True\n",
    "np.where(cond, x, y)   # return elements from x or y depending on cond\n",
    "```\n"
   ]
  },
  {
   "cell_type": "markdown",
   "id": "1ca5ba78",
   "metadata": {},
   "source": [
    "### elementwise operations and math functions\n",
    "\n",
    "```python\n",
    "a * 5              # multiplication with scalar\n",
    "a + 5              # addition with scalar\n",
    "a + b              # addition with array b\n",
    "a / b              # division with b (np.NaN for division by zero)\n",
    "np.exp(a)          # exponential (complex and real)\n",
    "np.power(a, b)     # a to the power b\n",
    "np.sin(a)          # sine\n",
    "np.cos(a)          # cosine\n",
    "np.arctan2(a, b)   # arctan(a/b)\n",
    "np.arcsin(a)       # arcsin\n",
    "np.radians(a)      # degrees to radians\n",
    "np.degrees(a)      # radians to degrees\n",
    "np.var(a)          # variance of array\n",
    "np.std(a, axis=1)  # standard deviation\n",
    "```"
   ]
  },
  {
   "cell_type": "markdown",
   "id": "9449d83e",
   "metadata": {},
   "source": [
    "### inner/ outer products\n",
    "\n",
    "```python\n",
    "np.dot(a, b)                  # inner product: a_mi b_in\n",
    "np.einsum('ij,kj->ik', a, b)  # einstein summation convention\n",
    "np.sum(a, axis=1)             # sum over axis 1\n",
    "np.abs(a)                     # return absolute values\n",
    "a[None, :] + b[:, None]       # outer sum\n",
    "a[None, :] * b[:, None]       # outer product\n",
    "np.outer(a, b)                # outer product\n",
    "np.sum(a * a.T)               # matrix norm\n",
    "```\n"
   ]
  },
  {
   "cell_type": "markdown",
   "id": "5f97d2f1",
   "metadata": {},
   "source": [
    "### linear algebra/ matrix math\n",
    "\n",
    "```python\n",
    "evals, evecs = np.linalg.eig(a)      # Find eigenvalues and eigenvectors\n",
    "evals, evecs = np.linalg.eigh(a)     # np.linalg.eig for hermitian matrix\n",
    "```\n"
   ]
  },
  {
   "cell_type": "markdown",
   "id": "7b53f81d",
   "metadata": {},
   "source": [
    "### reading/ writing files\n",
    "\n",
    "```python\n",
    "\n",
    "np.loadtxt(fname/fobject, skiprows=2, delimiter=',')   # ascii data from file\n",
    "np.savetxt(fname/fobject, array, fmt='%.5f')           # write ascii data\n",
    "np.fromfile(fname/fobject, dtype=np.float32, count=5)  # binary data from file\n",
    "np.tofile(fname/fobject)                               # write (C) binary data\n",
    "np.save(fname/fobject, array)                          # save as numpy binary (.npy)\n",
    "np.load(fname/fobject, mmap_mode='c')                  # load .npy file (memory mapped)\n",
    "```"
   ]
  },
  {
   "cell_type": "markdown",
   "id": "fd21871d",
   "metadata": {},
   "source": [
    "### interpolation, integration, optimization\n",
    "\n",
    "```python\n",
    "np.trapz(a, x=x, axis=1)  # integrate along axis 1\n",
    "np.interp(x, xp, yp)      # interpolate function xp, yp at points x\n",
    "np.linalg.lstsq(a, b)     # solve a x = b in least square sense\n",
    "```"
   ]
  },
  {
   "cell_type": "markdown",
   "id": "5335e55d",
   "metadata": {},
   "source": [
    "### fft\n",
    "\n",
    "```python\n",
    "np.fft.fft(a)                # complex fourier transform of a\n",
    "f = np.fft.fftfreq(len(a))   # fft frequencies\n",
    "np.fft.fftshift(f)           # shifts zero frequency to the middle\n",
    "np.fft.rfft(a)               # real fourier transform of a\n",
    "np.fft.rfftfreq(len(a))      # real fft frequencies\n",
    "```"
   ]
  },
  {
   "cell_type": "markdown",
   "id": "b3127ce8",
   "metadata": {},
   "source": [
    "### rounding\n",
    "\n",
    "\n",
    "```python\n",
    "np.ceil(a)   # rounds to nearest upper int\n",
    "np.floor(a)  # rounds to nearest lower int\n",
    "np.round(a)  # rounds to neares int\n",
    "```\n"
   ]
  },
  {
   "cell_type": "markdown",
   "id": "8b266840",
   "metadata": {},
   "source": [
    "### random variables\n",
    "\n",
    "```python\n",
    "from np.random import normal, seed, rand, uniform, randint\n",
    "normal(loc=0, scale=2, size=100)  # 100 normal distributed\n",
    "seed(23032)                       # resets the seed value\n",
    "rand(200)                         # 200 random numbers in [0, 1)\n",
    "uniform(1, 30, 200)               # 200 random numbers in [1, 30)\n",
    "randint(1, 16, 300)               # 300 random integers in [1, 16)\n",
    "```"
   ]
  },
  {
   "cell_type": "markdown",
   "id": "47adc577",
   "metadata": {},
   "source": [
    "## Matplotlib (`import matplotlib.pyplot as plt`)"
   ]
  },
  {
   "cell_type": "markdown",
   "id": "969ed3d8",
   "metadata": {},
   "source": [
    "### figures and axes\n",
    "\n",
    "```python\n",
    "fig = plt.figure(figsize=(5, 2))  # initialize figure\n",
    "fig.savefig('out.png')            # save png image\n",
    "fig, axes = plt.subplots(5, 2, figsize=(5, 5)) # fig and 5 x 2 nparray of axes\n",
    "ax = fig.add_subplot(3, 2, 2)     # add second subplot in a 3 x 2 grid\n",
    "ax = plt.subplot2grid((2, 2), (0, 0), colspan=2)  # multi column/row axis\n",
    "ax = fig.add_axes([left, bottom, width, height])  # add custom axis\n",
    "```"
   ]
  },
  {
   "cell_type": "markdown",
   "id": "decde52d",
   "metadata": {},
   "source": [
    "### figures and axes properties\n",
    "\n",
    "```python\n",
    "fig.suptitle('title')            # big figure title\n",
    "fig.subplots_adjust(bottom=0.1, right=0.8, top=0.9, wspace=0.2,\n",
    "                    hspace=0.5)  # adjust subplot positions\n",
    "fig.tight_layout(pad=0.1, h_pad=0.5, w_pad=0.5,\n",
    "                 rect=None)      # adjust subplots to fit into fig\n",
    "ax.set_xlabel('xbla')            # set xlabel\n",
    "ax.set_ylabel('ybla')            # set ylabel\n",
    "ax.set_xlim(1, 2)                # sets x limits\n",
    "ax.set_ylim(3, 4)                # sets y limits\n",
    "ax.set_title('blabla')           # sets the axis title\n",
    "ax.set(xlabel='bla')             # set multiple parameters at once\n",
    "ax.legend(loc='upper center')    # activate legend\n",
    "ax.grid(True, which='both')      # activate grid\n",
    "bbox = ax.get_position()         # returns the axes bounding box\n",
    "bbox.x0 + bbox.width             # bounding box parameters\n",
    "```\n"
   ]
  },
  {
   "cell_type": "markdown",
   "id": "53cea0fd",
   "metadata": {},
   "source": [
    "### plotting routines\n",
    "\n",
    "```python\n",
    "ax.plot(x,y, '-o', c='red', lw=2, label='bla')  # plots a line\n",
    "ax.scatter(x,y, s=20, c=color)                  # scatter plot\n",
    "ax.pcolormesh(xx, yy, zz, shading='gouraud')    # fast colormesh\n",
    "ax.colormesh(xx, yy, zz, norm=norm)             # slower colormesh\n",
    "ax.contour(xx, yy, zz, cmap='jet')              # contour lines\n",
    "ax.contourf(xx, yy, zz, vmin=2, vmax=4)         # filled contours\n",
    "n, bins, patch = ax.hist(x, 50)                 # histogram\n",
    "ax.imshow(matrix, origin='lower',\n",
    "          extent=(x1, x2, y1, y2))              # show image\n",
    "ax.specgram(y, FS=0.1, noverlap=128,\n",
    "            scale='linear')                     # plot a spectrogram\n",
    "ax.text(x, y, string, fontsize=12, color='m')   # write text\n",
    "```"
   ]
  },
  {
   "cell_type": "markdown",
   "id": "2ebe7250",
   "metadata": {},
   "source": [
    "## Scipy (`import scipy as sci`)"
   ]
  },
  {
   "cell_type": "markdown",
   "id": "36a7cc1b",
   "metadata": {},
   "source": [
    "### interpolation\n",
    "\n",
    "```python\n",
    "# interpolate data at index positions:\n",
    "from scipy.ndimage import map_coordinates\n",
    "pts_new = map_coordinates(data, float_indices, order=3)\n",
    "\n",
    "# simple 1d interpolator with axis argument:\n",
    "from scipy.interpolate import interp1d\n",
    "interpolator = interp1d(x, y, axis=2, fill_value=0., bounds_error=False)\n",
    "y_new = interpolator(x_new)\n",
    "```\n"
   ]
  },
  {
   "cell_type": "markdown",
   "id": "0714df06",
   "metadata": {},
   "source": [
    "### Integration\n",
    "\n",
    "```python\n",
    "from scipy.integrate import quad     # definite integral of python\n",
    "value = quad(func, low_lim, up_lim)  # function/method\n",
    "```\n"
   ]
  },
  {
   "cell_type": "markdown",
   "id": "e6e4c059",
   "metadata": {},
   "source": [
    "### linear algebra\n",
    "\n",
    "```python\n",
    "from scipy import linalg\n",
    "evals, evecs = linalg.eig(a)      # Find eigenvalues and eigenvectors\n",
    "evals, evecs = linalg.eigh(a)     # linalg.eig for hermitian matrix\n",
    "b = linalg.expm(a)                # Matrix exponential\n",
    "c = linalg.logm(a)                # Matrix logarithm\n",
    "```"
   ]
  },
  {
   "cell_type": "markdown",
   "id": "caa37b2e",
   "metadata": {},
   "source": [
    "## Pandas (`import pandas as pd`)"
   ]
  },
  {
   "cell_type": "markdown",
   "id": "4704c150",
   "metadata": {},
   "source": [
    "### Data structures\n",
    "```python\n",
    "s = pd.Series(np.random.rand(1000), index=range(1000))  # series\n",
    "index = pd.date_range(\"13/06/2016\", periods=1000)       # time index\n",
    "df = pd.DataFrame(np.zeros((1000, 3)), index=index,\n",
    "                    columns=[\"A\", \"B\", \"C\"])            # DataFrame\n",
    "```\n"
   ]
  },
  {
   "cell_type": "markdown",
   "id": "3ffacf8e",
   "metadata": {},
   "source": [
    "### DataFrame\n",
    "```python\n",
    "df = pd.read_csv(\"filename.csv\")   # read and load CSV file in a DataFrame\n",
    "raw = df.values                    # get raw data out of DataFrame object\n",
    "cols = df.columns                  # get list of columns headers\n",
    "df.dtypes                          # get data types of all columns\n",
    "df.head(5)                         # get first 5 rows\n",
    "df.describe()                      # get basic statisitics for all columns\n",
    "df.index                           # get index column range\n",
    "\n",
    "#column slicin\n",
    "# (.loc[] and .ix[] are inclusive of the range of values selected)\n",
    "df.col_name                         # select column values as a series by column name (not optimized)\n",
    "df[['col_name']]                    # select column values as a dataframe by column name (not optimized)\n",
    "df.loc[:, 'col_name']               # select column values as a series by column name\n",
    "df.loc[:, ['col_name']]             # select column values as a dataframe by column name \n",
    "df.iloc[:, 0]                       # select by column index\n",
    "df.iloc[:, [0]]                     # select by column index, but as a dataframe\n",
    "df.ix[:, 'col_name']                # hybrid approach with column name\n",
    "df.ix[:, 0]                         # hybrid approach with column index\n",
    "\n",
    "# row slicin\n",
    "print(df[:2])                      # print first 2 rows of the dataframe\n",
    "df.iloc[0:2, :]                    # select first 2 rows of the dataframe\n",
    "df.loc[0:2,'col_name']             # select first 3 rows of the dataframe\n",
    "df.loc[0:2, ['col_name1', 'col_name3', 'col_name6']]    # select first 3 rows of the 3 different columns\n",
    "df.iloc[0:2,0:2]                   # select fisrt 3 rows and first 3 columns\n",
    "# Again, .loc[] and .ix[] are inclusive\n",
    "\n",
    "# Dicin\n",
    "df[ df.col_name < 7 ]                            # select all rows where col_name < 7\n",
    "df[ (df.col_name1 < 7) & (df.col_name2 == 0) ]       # combine multiple boolean indexing conditionals using bit-wise logical operators.\n",
    "                                                     # Regular Python boolean operators (and, or) cannot be used here. \n",
    "                                                     # Be sure to encapsulate each conditional in parenthesis to make this work.\n",
    "df[df.recency < 7] = -100                        # writing to slice\n",
    "```"
   ]
  },
  {
   "cell_type": "code",
   "execution_count": null,
   "id": "8f0ffdc0",
   "metadata": {},
   "outputs": [],
   "source": []
  },
  {
   "cell_type": "code",
   "execution_count": null,
   "id": "98732860",
   "metadata": {},
   "outputs": [],
   "source": []
  }
 ],
 "metadata": {
  "kernelspec": {
   "display_name": "Python 3 (ipykernel)",
   "language": "python",
   "name": "python3"
  },
  "language_info": {
   "codemirror_mode": {
    "name": "ipython",
    "version": 3
   },
   "file_extension": ".py",
   "mimetype": "text/x-python",
   "name": "python",
   "nbconvert_exporter": "python",
   "pygments_lexer": "ipython3",
   "version": "3.10.0"
  }
 },
 "nbformat": 4,
 "nbformat_minor": 5
}
