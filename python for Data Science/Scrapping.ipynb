{
 "cells": [
  {
   "cell_type": "markdown",
   "id": "ad6dd0a8-276f-4af3-b7d2-f7edb0eec8f9",
   "metadata": {},
   "source": [
    "# Web Scraping:\n",
    "\n",
    "###### **Beautiful Soup**: Library for pulling data out of HTML and XML files.\n",
    "###### **Scrapy**: Framework for web crawling and scraping."
   ]
  },
  {
   "cell_type": "markdown",
   "id": "32706fb2-3dcb-4460-b391-eb0f2dc91f5d",
   "metadata": {},
   "source": [
    "## Beautiful Soup"
   ]
  },
  {
   "cell_type": "markdown",
   "id": "530d82f8-5bb2-47f0-addf-470ce8c0771d",
   "metadata": {},
   "source": [
    "from bs4 import BeautifulSoup\n",
    "import requests\n",
    "\n",
    "###### Define the URL to scrape\n",
    "url = \"https://www.example.com\"\n",
    "\n",
    "###### Send a GET request to the URL and get the HTML content\n",
    "response = requests.get(url)\n",
    "html_content = response.text\n",
    "\n",
    "###### Create a BeautifulSoup object to parse the HTML\n",
    "soup = BeautifulSoup(html_content, \"html.parser\")\n",
    "\n",
    "###### 1. Extract Title of the Page\n",
    "title = soup.title.string\n",
    "print(\"Title:\", title)\n",
    "\n",
    "###### 2. Find and Print All Links\n",
    "links = soup.find_all(\"a\")\n",
    "for link in links:\n",
    "    print(\"Link:\", link.get(\"href\"))\n",
    "\n",
    "###### 3. Find and Print All Paragraphs\n",
    "paragraphs = soup.find_all(\"p\")\n",
    "for paragraph in paragraphs:\n",
    "    print(\"Paragraph:\", paragraph.text)\n",
    "\n",
    "###### 4. Find and Print Specific Element by Class\n",
    "specific_element = soup.find(\"div\", class_=\"specific-class\")\n",
    "if specific_element:\n",
    "    print(\"Specific Element:\", specific_element.text)\n",
    "else:\n",
    "    print(\"Specific Element not found\")\n",
    "\n",
    "###### 5. Extract Image Source\n",
    "image = soup.find(\"img\")\n",
    "if image:\n",
    "    image_source = image.get(\"src\")\n",
    "    print(\"Image Source:\", image_source)\n",
    "else:\n",
    "    print(\"Image not found\")\n",
    "\n",
    "###### 6. Extract Data from Tables\n",
    "table = soup.find(\"table\")\n",
    "if table:\n",
    "    rows = table.find_all(\"tr\")\n",
    "    for row in rows:\n",
    "        cells = row.find_all(\"td\")\n",
    "        row_data = [cell.text for cell in cells]\n",
    "        print(\"Table Row:\", row_data)\n",
    "else:\n",
    "    print(\"Table not found\")\n"
   ]
  },
  {
   "cell_type": "markdown",
   "id": "96b6307a-b376-48d3-99d8-87d0e0433335",
   "metadata": {},
   "source": [
    "## Scrapy"
   ]
  },
  {
   "cell_type": "markdown",
   "id": "1da396a2-888b-4865-b0ab-6f67db72eaaf",
   "metadata": {},
   "source": [
    "import scrapy\n",
    "\n",
    "class MySpider(scrapy.Spider):\n",
    "    name = 'my_spider'\n",
    "    start_urls = ['https://www.example.com']\n",
    "\n",
    "    def parse(self, response):\n",
    "        # 1. Extract Title of the Page\n",
    "        title = response.css('title::text').get()\n",
    "        self.log(f\"Title: {title}\")\n",
    "\n",
    "        # 2. Find and Print All Links\n",
    "        links = response.css('a::attr(href)').getall()\n",
    "        for link in links:\n",
    "            self.log(f\"Link: {link}\")\n",
    "\n",
    "        # 3. Find and Print All Paragraphs\n",
    "        paragraphs = response.css('p::text').getall()\n",
    "        for paragraph in paragraphs:\n",
    "            self.log(f\"Paragraph: {paragraph}\")\n",
    "\n",
    "        # 4. Find and Print Specific Element by Class\n",
    "        specific_element = response.css('.specific-class::text').get()\n",
    "        if specific_element:\n",
    "            self.log(f\"Specific Element: {specific_element}\")\n",
    "        else:\n",
    "            self.log(\"Specific Element not found\")\n",
    "\n",
    "        # 5. Extract Image Source\n",
    "        image_source = response.css('img::attr(src)').get()\n",
    "        if image_source:\n",
    "            self.log(f\"Image Source: {image_source}\")\n",
    "        else:\n",
    "            self.log(\"Image not found\")\n",
    "\n",
    "        # 6. Extract Data from Tables\n",
    "        rows = response.css('table tr')\n",
    "        for row in rows:\n",
    "            row_data = row.css('td::text').getall()\n",
    "            self.log(f\"Table Row: {row_data}\")\n",
    "\n",
    "##### Run the spider\n",
    "from scrapy.crawler import CrawlerProcess\n",
    "process = CrawlerProcess()\n",
    "process.crawl(MySpider)\n",
    "process.start()\n"
   ]
  },
  {
   "cell_type": "markdown",
   "id": "85ffd2f9-0457-4722-a3d8-e947b82320ae",
   "metadata": {},
   "source": []
  }
 ],
 "metadata": {
  "kernelspec": {
   "display_name": "Python 3 (ipykernel)",
   "language": "python",
   "name": "python3"
  },
  "language_info": {
   "codemirror_mode": {
    "name": "ipython",
    "version": 3
   },
   "file_extension": ".py",
   "mimetype": "text/x-python",
   "name": "python",
   "nbconvert_exporter": "python",
   "pygments_lexer": "ipython3",
   "version": "3.11.4"
  }
 },
 "nbformat": 4,
 "nbformat_minor": 5
}
