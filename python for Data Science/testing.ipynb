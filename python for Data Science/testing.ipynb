{
 "cells": [
  {
   "cell_type": "markdown",
   "id": "fa0c13c6-ea28-4fc8-af78-08482a025508",
   "metadata": {},
   "source": [
    "# Testing:\n",
    "\n",
    "###### **unittest**: Python's built-in testing framework.\n",
    "###### **pytest**: Popular testing framework with a more concise syntax."
   ]
  },
  {
   "cell_type": "markdown",
   "id": "99abd324-d0fa-48d1-a247-7eeec7852605",
   "metadata": {},
   "source": [
    "## unittest"
   ]
  },
  {
   "cell_type": "markdown",
   "id": "345914a0-d53c-4915-b3a8-3507d7fd5ebb",
   "metadata": {},
   "source": [
    "import unittest\n",
    "\n",
    "##### Code to be tested (a simple function)\n",
    "def add(a, b):\n",
    "    return a + b\n",
    "\n",
    "###### Test case class\n",
    "class TestAddFunction(unittest.TestCase):\n",
    "    \n",
    "    def test_positive_numbers(self):\n",
    "        self.assertEqual(add(2, 3), 5)\n",
    "    \n",
    "    def test_negative_numbers(self):\n",
    "        self.assertEqual(add(-2, -3), -5)\n",
    "    \n",
    "    def test_mixed_numbers(self):\n",
    "        self.assertEqual(add(2, -3), -1)\n",
    "\n",
    "if __name__ == '__main__':\n",
    "    unittest.main()\n",
    "\n",
    "\n",
    "In this code snippet:\n",
    "\n",
    "We import the unittest module.\n",
    "We define a simple function add(a, b) that adds two numbers.\n",
    "We create a test case class TestAddFunction that inherits from unittest.TestCase.\n",
    "Inside the test case class, we define test methods such as test_positive_numbers, test_negative_numbers, and test_mixed_numbers. Each test method uses assertion methods like assertEqual to check whether the results match the expected values.\n",
    "Finally, we use unittest.main() to run the tests when the script is executed.\n",
    "When you run the script, the unittest module will automatically discover and run the test methods within the test case class, and it will provide feedback about the success or failure of each test.\n",
    "\n",
    "We can run this script from the command line, and it will output information about the tests, indicating whether they passed or failed."
   ]
  },
  {
   "cell_type": "markdown",
   "id": "c92257c9-b95d-491d-b069-33bd41c7c2d3",
   "metadata": {},
   "source": [
    "## pytest"
   ]
  },
  {
   "cell_type": "markdown",
   "id": "25548012-d011-4dbe-a7f5-b906e862c769",
   "metadata": {},
   "source": [
    "First, you need to install pytest if you haven't already:\n",
    "\n",
    "\n",
    "\n",
    "pip install pytest\n",
    "Create a file named test_add_function.py with the following content:\n",
    "\n",
    "\n",
    "###### Code to be tested (a simple function)\n",
    "def add(a, b):\n",
    "    return a + b\n",
    "\n",
    "###### Test function\n",
    "def test_positive_numbers():\n",
    "    assert add(2, 3) == 5\n",
    "\n",
    "def test_negative_numbers():\n",
    "    assert add(-2, -3) == -5\n",
    "\n",
    "def test_mixed_numbers():\n",
    "    assert add(2, -3) == -1\n",
    "\n",
    "\n",
    "Open a terminal and navigate to the directory containing test_add_function.py.\n",
    "\n",
    "Run the tests using pytest:\n",
    "\n",
    "Type:\n",
    "pytest\n",
    "\n",
    "\n",
    "The output will show the results of the tests, indicating whether they passed or failed.\n",
    "\n",
    "In this code snippet:\n",
    "\n",
    "We define a simple function add(a, b) that adds two numbers.\n",
    "We define test functions using the naming convention test_*, where * is a descriptive name for the test.\n",
    "Inside each test function, we use the assert statement to check whether the results match the expected values.\n",
    "pytest will automatically discover and run all the test functions in the file. It provides informative output about the tests, \n",
    "indicating which ones passed and which ones failed."
   ]
  },
  {
   "cell_type": "code",
   "execution_count": null,
   "id": "9b4d3fb9-fc37-4ab9-bf81-2022953226d3",
   "metadata": {},
   "outputs": [],
   "source": []
  }
 ],
 "metadata": {
  "kernelspec": {
   "display_name": "Python 3 (ipykernel)",
   "language": "python",
   "name": "python3"
  },
  "language_info": {
   "codemirror_mode": {
    "name": "ipython",
    "version": 3
   },
   "file_extension": ".py",
   "mimetype": "text/x-python",
   "name": "python",
   "nbconvert_exporter": "python",
   "pygments_lexer": "ipython3",
   "version": "3.11.4"
  }
 },
 "nbformat": 4,
 "nbformat_minor": 5
}
